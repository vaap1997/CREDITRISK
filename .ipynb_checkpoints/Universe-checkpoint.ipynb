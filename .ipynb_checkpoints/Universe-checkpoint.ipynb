{
 "cells": [
  {
   "cell_type": "code",
   "execution_count": 1,
   "id": "229628cb-f572-40ea-8768-517678549304",
   "metadata": {},
   "outputs": [],
   "source": [
    "import warnings\n",
    "warnings.filterwarnings(\"ignore\")\n",
    "import pandas as pd\n",
    "import numpy as np\n",
    "import statsmodels.api as sm\n",
    "from datetime import datetime, timedelta\n",
    "import matplotlib.pyplot as plt"
   ]
  },
  {
   "cell_type": "markdown",
   "id": "79b2cd88-e2de-4389-9c0c-5d1b0f5e7636",
   "metadata": {},
   "source": [
    "# Basic Filters"
   ]
  },
  {
   "cell_type": "code",
   "execution_count": 2,
   "id": "67877b99-2482-4ec9-9484-516b82a224dc",
   "metadata": {},
   "outputs": [],
   "source": [
    "def basic_filters(data, trt1m=False,curcd=False):\n",
    "    data = data[(~data['sic'].between(6000,6999))& #FINANCIALS\n",
    "                #(data['sic']!=2834)& #PHARMA\n",
    "                (data['fic']=='USA') &\n",
    "                (data['exchg'].between(11,19))]\n",
    "    if trt1m:\n",
    "        data = data[(~data['trt1m'].isnull()) &\n",
    "                    (~data['trt1m'].isna()) &\n",
    "                    (~data['trt1m'].astype(str).str.contains('[a-zA-Z]')) &\n",
    "                    (data['trt1m']>-100)&\n",
    "                    (data['trt1m']<1000)]\n",
    "    if curcd:\n",
    "        data = data[(data['curcd']=='USD')]\n",
    "    return data\n",
    "    "
   ]
  },
  {
   "cell_type": "markdown",
   "id": "13c2d379-d4a7-4111-86e1-2afecef8ffaa",
   "metadata": {},
   "source": [
    "# Fundamentals data"
   ]
  },
  {
   "cell_type": "code",
   "execution_count": 3,
   "id": "90cf443a-d189-4983-972f-8ddb18ea83cf",
   "metadata": {},
   "outputs": [
    {
     "name": "stdout",
     "output_type": "stream",
     "text": [
      "Len of original df: 51539 \n",
      "Len of filtered df: 29184 \n",
      "Obs removed: 22355 ( 0.4337491996352277 )\n"
     ]
    },
    {
     "data": {
      "text/html": [
       "<div>\n",
       "<style scoped>\n",
       "    .dataframe tbody tr th:only-of-type {\n",
       "        vertical-align: middle;\n",
       "    }\n",
       "\n",
       "    .dataframe tbody tr th {\n",
       "        vertical-align: top;\n",
       "    }\n",
       "\n",
       "    .dataframe thead th {\n",
       "        text-align: right;\n",
       "    }\n",
       "</style>\n",
       "<table border=\"1\" class=\"dataframe\">\n",
       "  <thead>\n",
       "    <tr style=\"text-align: right;\">\n",
       "      <th></th>\n",
       "      <th>GVKEY</th>\n",
       "      <th>LPERMNO</th>\n",
       "      <th>LINKDT</th>\n",
       "      <th>datadate</th>\n",
       "      <th>fyear</th>\n",
       "      <th>indfmt</th>\n",
       "      <th>consol</th>\n",
       "      <th>popsrc</th>\n",
       "      <th>datafmt</th>\n",
       "      <th>tic</th>\n",
       "      <th>...</th>\n",
       "      <th>auopic</th>\n",
       "      <th>ceoso</th>\n",
       "      <th>cfoso</th>\n",
       "      <th>city</th>\n",
       "      <th>conml</th>\n",
       "      <th>gind</th>\n",
       "      <th>sic</th>\n",
       "      <th>state</th>\n",
       "      <th>ipodate</th>\n",
       "      <th>market_cap</th>\n",
       "    </tr>\n",
       "  </thead>\n",
       "  <tbody>\n",
       "    <tr>\n",
       "      <th>47727</th>\n",
       "      <td>184996</td>\n",
       "      <td>93436</td>\n",
       "      <td>2010-06-29</td>\n",
       "      <td>2023-12-31</td>\n",
       "      <td>2023</td>\n",
       "      <td>INDL</td>\n",
       "      <td>C</td>\n",
       "      <td>D</td>\n",
       "      <td>STD</td>\n",
       "      <td>TSLA</td>\n",
       "      <td>...</td>\n",
       "      <td>1.0</td>\n",
       "      <td>Y</td>\n",
       "      <td>Y</td>\n",
       "      <td>Austin</td>\n",
       "      <td>Tesla Inc</td>\n",
       "      <td>251020.0</td>\n",
       "      <td>3711</td>\n",
       "      <td>TX</td>\n",
       "      <td>2010-06-29</td>\n",
       "      <td>791408.80</td>\n",
       "    </tr>\n",
       "    <tr>\n",
       "      <th>47726</th>\n",
       "      <td>184996</td>\n",
       "      <td>93436</td>\n",
       "      <td>2010-06-29</td>\n",
       "      <td>2022-12-31</td>\n",
       "      <td>2022</td>\n",
       "      <td>INDL</td>\n",
       "      <td>C</td>\n",
       "      <td>D</td>\n",
       "      <td>STD</td>\n",
       "      <td>TSLA</td>\n",
       "      <td>...</td>\n",
       "      <td>1.0</td>\n",
       "      <td>Y</td>\n",
       "      <td>Y</td>\n",
       "      <td>Austin</td>\n",
       "      <td>Tesla Inc</td>\n",
       "      <td>251020.0</td>\n",
       "      <td>3711</td>\n",
       "      <td>TX</td>\n",
       "      <td>2010-06-29</td>\n",
       "      <td>389741.52</td>\n",
       "    </tr>\n",
       "    <tr>\n",
       "      <th>47725</th>\n",
       "      <td>184996</td>\n",
       "      <td>93436</td>\n",
       "      <td>2010-06-29</td>\n",
       "      <td>2021-12-31</td>\n",
       "      <td>2021</td>\n",
       "      <td>INDL</td>\n",
       "      <td>C</td>\n",
       "      <td>D</td>\n",
       "      <td>STD</td>\n",
       "      <td>TSLA</td>\n",
       "      <td>...</td>\n",
       "      <td>1.0</td>\n",
       "      <td>Y</td>\n",
       "      <td>Y</td>\n",
       "      <td>Austin</td>\n",
       "      <td>Tesla Inc</td>\n",
       "      <td>251020.0</td>\n",
       "      <td>3711</td>\n",
       "      <td>TX</td>\n",
       "      <td>2010-06-29</td>\n",
       "      <td>1091653.74</td>\n",
       "    </tr>\n",
       "    <tr>\n",
       "      <th>47724</th>\n",
       "      <td>184996</td>\n",
       "      <td>93436</td>\n",
       "      <td>2010-06-29</td>\n",
       "      <td>2020-12-31</td>\n",
       "      <td>2020</td>\n",
       "      <td>INDL</td>\n",
       "      <td>C</td>\n",
       "      <td>D</td>\n",
       "      <td>STD</td>\n",
       "      <td>TSLA</td>\n",
       "      <td>...</td>\n",
       "      <td>1.0</td>\n",
       "      <td>Y</td>\n",
       "      <td>Y</td>\n",
       "      <td>Austin</td>\n",
       "      <td>Tesla Inc</td>\n",
       "      <td>251020.0</td>\n",
       "      <td>3711</td>\n",
       "      <td>TX</td>\n",
       "      <td>2010-06-29</td>\n",
       "      <td>677443.20</td>\n",
       "    </tr>\n",
       "    <tr>\n",
       "      <th>47723</th>\n",
       "      <td>184996</td>\n",
       "      <td>93436</td>\n",
       "      <td>2010-06-29</td>\n",
       "      <td>2019-12-31</td>\n",
       "      <td>2019</td>\n",
       "      <td>INDL</td>\n",
       "      <td>C</td>\n",
       "      <td>D</td>\n",
       "      <td>STD</td>\n",
       "      <td>TSLA</td>\n",
       "      <td>...</td>\n",
       "      <td>1.0</td>\n",
       "      <td>Y</td>\n",
       "      <td>Y</td>\n",
       "      <td>Austin</td>\n",
       "      <td>Tesla Inc</td>\n",
       "      <td>251020.0</td>\n",
       "      <td>3711</td>\n",
       "      <td>TX</td>\n",
       "      <td>2010-06-29</td>\n",
       "      <td>75717.73</td>\n",
       "    </tr>\n",
       "  </tbody>\n",
       "</table>\n",
       "<p>5 rows × 914 columns</p>\n",
       "</div>"
      ],
      "text/plain": [
       "        GVKEY  LPERMNO      LINKDT   datadate  fyear indfmt consol popsrc  \\\n",
       "47727  184996    93436  2010-06-29 2023-12-31   2023   INDL      C      D   \n",
       "47726  184996    93436  2010-06-29 2022-12-31   2022   INDL      C      D   \n",
       "47725  184996    93436  2010-06-29 2021-12-31   2021   INDL      C      D   \n",
       "47724  184996    93436  2010-06-29 2020-12-31   2020   INDL      C      D   \n",
       "47723  184996    93436  2010-06-29 2019-12-31   2019   INDL      C      D   \n",
       "\n",
       "      datafmt   tic  ... auopic ceoso  cfoso    city      conml      gind  \\\n",
       "47727     STD  TSLA  ...    1.0     Y      Y  Austin  Tesla Inc  251020.0   \n",
       "47726     STD  TSLA  ...    1.0     Y      Y  Austin  Tesla Inc  251020.0   \n",
       "47725     STD  TSLA  ...    1.0     Y      Y  Austin  Tesla Inc  251020.0   \n",
       "47724     STD  TSLA  ...    1.0     Y      Y  Austin  Tesla Inc  251020.0   \n",
       "47723     STD  TSLA  ...    1.0     Y      Y  Austin  Tesla Inc  251020.0   \n",
       "\n",
       "        sic  state     ipodate  market_cap  \n",
       "47727  3711     TX  2010-06-29   791408.80  \n",
       "47726  3711     TX  2010-06-29   389741.52  \n",
       "47725  3711     TX  2010-06-29  1091653.74  \n",
       "47724  3711     TX  2010-06-29   677443.20  \n",
       "47723  3711     TX  2010-06-29    75717.73  \n",
       "\n",
       "[5 rows x 914 columns]"
      ]
     },
     "execution_count": 3,
     "metadata": {},
     "output_type": "execute_result"
    }
   ],
   "source": [
    "fundamentals = pd.read_csv('fundamentals_annual.csv')\n",
    "# Get year data\n",
    "fundamentals['datadate'] = pd.to_datetime(fundamentals['datadate'], format='%Y-%m-%d')\n",
    "fundamentals['fyear'] = fundamentals['datadate'].dt.year\n",
    "fundamentals.sort_values(by=['LPERMNO','datadate'],inplace=True)\n",
    "# Apply basic filters\n",
    "fundamentals_filtered = basic_filters(fundamentals, trt1m=False,curcd=True)\n",
    "#Create market cap | fill missings with 0 | filter market caps greater than 10 to avoid outliers\n",
    "fundamentals_filtered['market_cap'] = fundamentals_filtered['csho']*fundamentals_filtered['prcc_f']\n",
    "fundamentals_filtered['market_cap'] = fundamentals_filtered['market_cap'].fillna(0)\n",
    "#fundamentals_filtered = fundamentals_filtered[fundamentals_filtered['market_cap']>10]\n",
    "#Drop duplicates \n",
    "fundamentals_filtered.sort_values(by=['LPERMNO','datadate'],ascending=False, inplace=True) \n",
    "fundamentals_filtered.drop_duplicates(subset=['LPERMNO','fyear'],inplace=True)\n",
    "print(\"Len of original df:\",len(fundamentals),\"\\nLen of filtered df:\",len(fundamentals_filtered),\"\\nObs removed:\",len(fundamentals)-len(fundamentals_filtered),\"(\",(len(fundamentals)-len(fundamentals_filtered))/len(fundamentals),\")\")\n",
    "#Drop 2024\n",
    "fundamentals_filtered = fundamentals_filtered[fundamentals_filtered['fyear']<2024]\n",
    "fundamentals_filtered.head()\n"
   ]
  },
  {
   "cell_type": "code",
   "execution_count": 4,
   "id": "581ae3a2-f8b3-4341-adc7-d4d8b23fc147",
   "metadata": {
    "scrolled": true
   },
   "outputs": [
    {
     "data": {
      "text/plain": [
       "fyear\n",
       "2014    2784\n",
       "2015    3095\n",
       "2016    3015\n",
       "2017    2989\n",
       "2018    2987\n",
       "2019    2966\n",
       "2020    3061\n",
       "2021    3428\n",
       "2022    3380\n",
       "2023    1476\n",
       "Name: LPERMNO, dtype: int64"
      ]
     },
     "execution_count": 4,
     "metadata": {},
     "output_type": "execute_result"
    }
   ],
   "source": [
    "fundamentals_filtered.groupby(['fyear'])['LPERMNO'].count()"
   ]
  },
  {
   "cell_type": "code",
   "execution_count": 5,
   "id": "97bd9bed-e301-485c-b237-0cd5fa02796d",
   "metadata": {},
   "outputs": [
    {
     "data": {
      "text/plain": [
       "fyear\n",
       "2014    1000\n",
       "2015    1000\n",
       "2016    1000\n",
       "2017    1000\n",
       "2018    1000\n",
       "2019    1000\n",
       "2020    1000\n",
       "2021    1000\n",
       "2022    1000\n",
       "2023    1000\n",
       "Name: LPERMNO, dtype: int64"
      ]
     },
     "execution_count": 5,
     "metadata": {},
     "output_type": "execute_result"
    }
   ],
   "source": [
    "#fundamentals_small = fundamentals_filtered[fundamentals_filtered['revt']<=5.8]\n",
    "def getSmaller1k(data):\n",
    "    return data.sort_values(by='revt').head(1000)\n",
    "\n",
    "fundamentals_small = fundamentals_filtered.groupby('fyear').apply(getSmaller1k)\n",
    "fundamentals_small = fundamentals_small.reset_index(drop=True)\n",
    "fundamentals_small.groupby(['fyear'])['LPERMNO'].count()\n"
   ]
  },
  {
   "cell_type": "code",
   "execution_count": 6,
   "id": "3e2dcdef-7fe7-4ff4-a3d2-239952d32e73",
   "metadata": {},
   "outputs": [
    {
     "data": {
      "text/plain": [
       "0.00   -1964.99900\n",
       "0.01       0.00000\n",
       "0.05       0.00000\n",
       "0.10       0.00000\n",
       "0.15       0.00000\n",
       "0.20       0.03100\n",
       "0.25       0.53750\n",
       "0.40       8.27840\n",
       "0.50      18.52900\n",
       "0.60      31.80000\n",
       "0.70      50.28840\n",
       "0.80      86.26760\n",
       "0.90     143.02430\n",
       "0.95     822.64160\n",
       "0.99    3315.46494\n",
       "1.00    4320.57700\n",
       "Name: revt, dtype: float64"
      ]
     },
     "execution_count": 6,
     "metadata": {},
     "output_type": "execute_result"
    }
   ],
   "source": [
    "fundamentals_small['revt'].quantile([0,0.01,0.05,0.1,0.15,0.2,0.25,0.4,0.5,0.6,0.7,0.8,0.9,0.95,0.99,1])\n",
    "                                    "
   ]
  },
  {
   "cell_type": "code",
   "execution_count": 7,
   "id": "07daf813-5ae3-4eb9-9eca-e5e57be61bc5",
   "metadata": {},
   "outputs": [],
   "source": [
    "fundamentals_small = fundamentals_small[(fundamentals_small['revt']>fundamentals_small['revt'].quantile(0.01))&\n",
    "                                        (fundamentals_small['revt']<=fundamentals_small['revt'].quantile(0.9))]"
   ]
  },
  {
   "cell_type": "code",
   "execution_count": 8,
   "id": "67a22dd0-1263-4fcb-9434-934b935c9c21",
   "metadata": {},
   "outputs": [
    {
     "data": {
      "text/plain": [
       "fyear\n",
       "2014    776\n",
       "2015    835\n",
       "2016    823\n",
       "2017    804\n",
       "2018    779\n",
       "2019    757\n",
       "2020    733\n",
       "2021    678\n",
       "2022    680\n",
       "2023    183\n",
       "Name: LPERMNO, dtype: int64"
      ]
     },
     "execution_count": 8,
     "metadata": {},
     "output_type": "execute_result"
    }
   ],
   "source": [
    "fundamentals_small.groupby(['fyear'])['LPERMNO'].count()"
   ]
  },
  {
   "cell_type": "code",
   "execution_count": 11,
   "id": "d63b6f1e-7a87-4d50-8e4f-ac367136e5fd",
   "metadata": {},
   "outputs": [],
   "source": [
    "fundamentals_small[['tic','conm','conml','sic']].to_csv('small_companies.csv',index=False)"
   ]
  },
  {
   "cell_type": "code",
   "execution_count": 12,
   "id": "11e1a267-4b7e-4174-aee8-b67344f34d48",
   "metadata": {},
   "outputs": [],
   "source": [
    "fundamentals_small.to_csv('small_companies_variables.csv')"
   ]
  },
  {
   "cell_type": "markdown",
   "id": "f5e10053-296e-4d84-a0d1-a826b9848485",
   "metadata": {},
   "source": [
    "# Filter some variables"
   ]
  },
  {
   "cell_type": "code",
   "execution_count": null,
   "id": "6120aecc-3f63-47b6-8608-dab7e909944f",
   "metadata": {},
   "outputs": [],
   "source": []
  },
  {
   "cell_type": "code",
   "execution_count": null,
   "id": "647ffa20-e41f-48bb-9699-a07f0afca392",
   "metadata": {},
   "outputs": [],
   "source": []
  },
  {
   "cell_type": "code",
   "execution_count": null,
   "id": "0e056989-c3d0-4594-84f3-25d0a78810c8",
   "metadata": {},
   "outputs": [],
   "source": []
  },
  {
   "cell_type": "code",
   "execution_count": null,
   "id": "ee267cef-2cfb-4c83-b1ac-96dbb829a55c",
   "metadata": {},
   "outputs": [],
   "source": []
  },
  {
   "cell_type": "code",
   "execution_count": null,
   "id": "5106a092-bc31-4b2e-87ca-5c25038fff4c",
   "metadata": {},
   "outputs": [],
   "source": []
  }
 ],
 "metadata": {
  "kernelspec": {
   "display_name": "Python 3 (ipykernel)",
   "language": "python",
   "name": "python3"
  },
  "language_info": {
   "codemirror_mode": {
    "name": "ipython",
    "version": 3
   },
   "file_extension": ".py",
   "mimetype": "text/x-python",
   "name": "python",
   "nbconvert_exporter": "python",
   "pygments_lexer": "ipython3",
   "version": "3.11.0"
  }
 },
 "nbformat": 4,
 "nbformat_minor": 5
}
